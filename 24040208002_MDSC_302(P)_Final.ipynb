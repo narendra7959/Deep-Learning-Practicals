{
  "metadata": {
    "kernelspec": {
      "language": "python",
      "display_name": "Python 3",
      "name": "python3"
    },
    "language_info": {
      "name": "python",
      "version": "3.11.13",
      "mimetype": "text/x-python",
      "codemirror_mode": {
        "name": "ipython",
        "version": 3
      },
      "pygments_lexer": "ipython3",
      "nbconvert_exporter": "python",
      "file_extension": ".py"
    },
    "kaggle": {
      "accelerator": "gpu",
      "dataSources": [
        {
          "sourceId": 13504533,
          "sourceType": "datasetVersion",
          "datasetId": 8574153
        },
        {
          "sourceId": 13506053,
          "sourceType": "datasetVersion",
          "datasetId": 8575172
        },
        {
          "sourceId": 13504799,
          "sourceType": "datasetVersion",
          "datasetId": 8574354
        }
      ],
      "dockerImageVersionId": 31154,
      "isInternetEnabled": true,
      "language": "python",
      "sourceType": "notebook",
      "isGpuEnabled": true
    },
    "colab": {
      "provenance": [],
      "include_colab_link": true
    }
  },
  "nbformat_minor": 0,
  "nbformat": 4,
  "cells": [
    {
      "cell_type": "markdown",
      "metadata": {
        "id": "view-in-github",
        "colab_type": "text"
      },
      "source": [
        "<a href=\"https://colab.research.google.com/github/narendra7959/Deep-Learning-Practicals/blob/main/24040208002_MDSC_302(P)_Final.ipynb\" target=\"_parent\"><img src=\"https://colab.research.google.com/assets/colab-badge.svg\" alt=\"Open In Colab\"/></a>"
      ]
    },
    {
      "cell_type": "markdown",
      "source": [
        "Name: Narendra\n",
        "Reg No : 24040208002\n"
      ],
      "metadata": {
        "id": "52ej7Zr8ZAYl"
      }
    },
    {
      "cell_type": "code",
      "source": [
        "\n",
        "# Imports and NamedTuples\n",
        "\n",
        "import os\n",
        "import glob\n",
        "import csv\n",
        "import copy\n",
        "import functools\n",
        "import collections\n",
        "import numpy as np\n",
        "import SimpleITK as sitk\n",
        "import torch\n",
        "from torch.utils.data import Dataset\n",
        "\n",
        "# Tuples for coordinates\n",
        "IrcTuple = collections.namedtuple('IrcTuple', ['index', 'row', 'col'])\n",
        "XyzTuple = collections.namedtuple('XyzTuple', ['x', 'y', 'z'])\n",
        "#explanation;-This section imports all necessary libraries and defines simple namedtuples for handling coordinate data. IrcTuple is for voxel indices, and XyzTuple is for real-world (mm) coordinates."
      ],
      "metadata": {
        "trusted": true,
        "execution": {
          "iopub.status.busy": "2025-10-27T11:10:19.323689Z",
          "iopub.execute_input": "2025-10-27T11:10:19.324413Z",
          "iopub.status.idle": "2025-10-27T11:10:19.328983Z",
          "shell.execute_reply.started": "2025-10-27T11:10:19.324388Z",
          "shell.execute_reply": "2025-10-27T11:10:19.328203Z"
        },
        "id": "ScleWFFLY2DC"
      },
      "outputs": [],
      "execution_count": null
    },
    {
      "cell_type": "code",
      "source": [
        "\n",
        "# Coordinate Conversion Function\n",
        "\n",
        "def xyz2irc(coord_xyz, origin_xyz, vxSize_xyz, direction_a):\n",
        "    \"\"\"\n",
        "    Convert patient coordinates (mm) to voxel indices (IRC)\n",
        "    \"\"\"\n",
        "    origin_a = np.array(origin_xyz)\n",
        "    vxSize_a = np.array(vxSize_xyz)\n",
        "    coord_a = np.array(coord_xyz)\n",
        "\n",
        "    # Apply inverse transform to voxel space\n",
        "    cri_a = ((coord_a - origin_a) @ np.linalg.inv(direction_a)) / vxSize_a\n",
        "    cri_a = np.round(cri_a)\n",
        "    return IrcTuple(int(cri_a[2]), int(cri_a[1]), int(cri_a[0]))\n",
        "#Explanation;-This function converts a coordinate in millimeters (patient space) to voxel indices in the CT array. It accounts for voxel spacing and the scan’s orientation."
      ],
      "metadata": {
        "trusted": true,
        "execution": {
          "iopub.status.busy": "2025-10-27T11:10:19.349817Z",
          "iopub.execute_input": "2025-10-27T11:10:19.350114Z",
          "iopub.status.idle": "2025-10-27T11:10:19.354714Z",
          "shell.execute_reply.started": "2025-10-27T11:10:19.350096Z",
          "shell.execute_reply": "2025-10-27T11:10:19.353918Z"
        },
        "id": "oGCHkVR3Y2DL"
      },
      "outputs": [],
      "execution_count": null
    },
    {
      "cell_type": "code",
      "source": [
        "\n",
        "# CT Loader Class\n",
        "\n",
        "class Ct:\n",
        "    def __init__(self, series_uid, base_path='/kaggle/input/subset0/subset0'):\n",
        "        # Locate .mhd file\n",
        "        mhd_files = glob.glob(f'{base_path}/{series_uid}.mhd')\n",
        "        if not mhd_files:\n",
        "            raise FileNotFoundError(f\"No .mhd file found for {series_uid}\")\n",
        "        mhd_path = mhd_files[0]\n",
        "\n",
        "        # Load CT\n",
        "        ct_mhd = sitk.ReadImage(mhd_path)\n",
        "        ct_a = np.array(sitk.GetArrayFromImage(ct_mhd), dtype=np.float32)\n",
        "        ct_a.clip(-1000, 1000, ct_a)\n",
        "\n",
        "        # Store metadata\n",
        "        self.series_uid = series_uid\n",
        "        self.hu_a = ct_a\n",
        "        self.origin_xyz = XyzTuple(*ct_mhd.GetOrigin())\n",
        "        self.vxSize_xyz = XyzTuple(*ct_mhd.GetSpacing())\n",
        "        self.direction_a = np.array(ct_mhd.GetDirection()).reshape(3,3)\n",
        "\n",
        "    def getRawCandidate(self, center_xyz, width_irc):\n",
        "        # Convert center to voxel indices\n",
        "        center_irc = xyz2irc(center_xyz, self.origin_xyz, self.vxSize_xyz, self.direction_a)\n",
        "\n",
        "        # Extract cubic chunk\n",
        "        slice_list = []\n",
        "        for axis, center_val in enumerate(center_irc):\n",
        "            start_ndx = int(round(center_val - width_irc[axis]/2))\n",
        "            end_ndx = int(start_ndx + width_irc[axis])\n",
        "            slice_list.append(slice(start_ndx, end_ndx))\n",
        "        ct_chunk = self.hu_a[tuple(slice_list)]\n",
        "        return ct_chunk, center_irc\n",
        "#Exaplnation;-Ct loads a CT scan from a .mhd file, clips HU values to [-1000, 1000], and stores metadata for voxel conversions. getRawCandidate extracts a cubic patch around a nodule in voxel coordinates."
      ],
      "metadata": {
        "trusted": true,
        "execution": {
          "iopub.status.busy": "2025-10-27T11:10:19.378615Z",
          "iopub.execute_input": "2025-10-27T11:10:19.379123Z",
          "iopub.status.idle": "2025-10-27T11:10:19.385271Z",
          "shell.execute_reply.started": "2025-10-27T11:10:19.379105Z",
          "shell.execute_reply": "2025-10-27T11:10:19.384491Z"
        },
        "id": "Ww2KfbT2Y2DQ"
      },
      "outputs": [],
      "execution_count": null
    },
    {
      "cell_type": "code",
      "source": [
        "\n",
        "# Caching functions\n",
        "\n",
        "@functools.lru_cache(maxsize=1, typed=True)\n",
        "def getCt(series_uid):\n",
        "    return Ct(series_uid)\n",
        "\n",
        "@functools.lru_cache(maxsize=128, typed=True)\n",
        "def getCtRawCandidate(series_uid, center_xyz, width_irc):\n",
        "    ct = getCt(series_uid)\n",
        "    return ct.getRawCandidate(center_xyz, width_irc)\n",
        "#Explanation;-These cached functions avoid reloading CT scans multiple times. getCt caches a single CT in memory; getCtRawCandidate caches multiple nodule chunks for efficiency."
      ],
      "metadata": {
        "trusted": true,
        "execution": {
          "iopub.status.busy": "2025-10-27T11:10:19.401420Z",
          "iopub.execute_input": "2025-10-27T11:10:19.401920Z",
          "iopub.status.idle": "2025-10-27T11:10:19.405508Z",
          "shell.execute_reply.started": "2025-10-27T11:10:19.401902Z",
          "shell.execute_reply": "2025-10-27T11:10:19.404939Z"
        },
        "id": "8IskranoY2DU"
      },
      "outputs": [],
      "execution_count": null
    },
    {
      "cell_type": "code",
      "source": [
        "\n",
        "# Candidate Info Parsing\n",
        "\n",
        "CandidateInfoTuple = collections.namedtuple('CandidateInfoTuple', 'isNodule_bool, diameter_mm, series_uid, center_xyz')\n",
        "\n",
        "@functools.lru_cache(1)\n",
        "def getCandidateInfoList(requireOnDisk_bool=True):\n",
        "    \"\"\"\n",
        "    Parses LUNA16 annotations and candidates CSVs, returns a unified list.\n",
        "    \"\"\"\n",
        "    # Detect available .mhd files\n",
        "    mhd_list = glob.glob('/kaggle/input/**/*subset*/**/*.mhd', recursive=True)\n",
        "    presentOnDisk_set = {os.path.splitext(os.path.basename(p))[0] for p in mhd_list}\n",
        "\n",
        "    # Load CSVs (replace paths if needed)\n",
        "    annotations_path = '/kaggle/input/subset0-csv/annotations.csv'\n",
        "    candidates_path = '/kaggle/input/subset0-csv/candidates.csv'\n",
        "\n",
        "    # Parse true nodules\n",
        "    diameter_dict = {}\n",
        "    with open(annotations_path) as f:\n",
        "        reader = csv.reader(f)\n",
        "        next(reader)\n",
        "        for row in reader:\n",
        "            series_uid = row[0]\n",
        "            center_xyz = tuple(float(x) for x in row[1:4])\n",
        "            diameter_mm = float(row[4])\n",
        "            diameter_dict.setdefault(series_uid, []).append((center_xyz, diameter_mm))\n",
        "\n",
        "    # Parse candidate entries\n",
        "    candidateInfo_list = []\n",
        "    with open(candidates_path) as f:\n",
        "        reader = csv.reader(f)\n",
        "        next(reader)\n",
        "        for row in reader:\n",
        "            series_uid = row[0]\n",
        "            if series_uid not in presentOnDisk_set and requireOnDisk_bool:\n",
        "                continue\n",
        "            isNodule_bool = bool(int(row[4]))\n",
        "            candidate_xyz = tuple(float(x) for x in row[1:4])\n",
        "            diameter_mm = 0.0\n",
        "            for ann_xyz, ann_d in diameter_dict.get(series_uid, []):\n",
        "                if all(abs(candidate_xyz[i]-ann_xyz[i]) <= ann_d/4 for i in range(3)):\n",
        "                    diameter_mm = ann_d\n",
        "                    break\n",
        "            candidateInfo_list.append(CandidateInfoTuple(isNodule_bool, diameter_mm, series_uid, candidate_xyz))\n",
        "\n",
        "    print(f\"Loaded {len(candidateInfo_list)} candidates\")\n",
        "    return candidateInfo_list\n",
        "#Exaplanation:-\n",
        "#This function reads both annotations.csv and candidates.csv, checks which CT scans exist on disk, and merges nodule annotations with candidates into a unified list of CandidateInfoTuple."
      ],
      "metadata": {
        "trusted": true,
        "execution": {
          "iopub.status.busy": "2025-10-27T11:10:19.432601Z",
          "iopub.execute_input": "2025-10-27T11:10:19.433196Z",
          "iopub.status.idle": "2025-10-27T11:10:19.447977Z",
          "shell.execute_reply.started": "2025-10-27T11:10:19.433178Z",
          "shell.execute_reply": "2025-10-27T11:10:19.447279Z"
        },
        "id": "dYlFul9AY2DV"
      },
      "outputs": [],
      "execution_count": null
    },
    {
      "cell_type": "code",
      "source": [
        "\n",
        "# LunaDataset for PyTorch\n",
        "\n",
        "class LunaDataset(Dataset):\n",
        "    def __init__(self, val_stride=0, isValSet_bool=None, series_uid=None):\n",
        "        self.candidateInfo_list = copy.copy(getCandidateInfoList())\n",
        "\n",
        "        # Filter by series UID if specified\n",
        "        if series_uid:\n",
        "            self.candidateInfo_list = [x for x in self.candidateInfo_list if x.series_uid == series_uid]\n",
        "\n",
        "        # Validation split\n",
        "        if isValSet_bool:\n",
        "            assert val_stride > 0\n",
        "            self.candidateInfo_list = self.candidateInfo_list[::val_stride]\n",
        "        elif val_stride > 0:\n",
        "            del self.candidateInfo_list[::val_stride]\n",
        "\n",
        "    def __len__(self):\n",
        "        return len(self.candidateInfo_list)\n",
        "\n",
        "    def __getitem__(self, ndx):\n",
        "        candidate = self.candidateInfo_list[ndx]\n",
        "        width_irc = (32, 48, 48)\n",
        "        candidate_a, center_irc = getCtRawCandidate(candidate.series_uid, candidate.center_xyz, width_irc)\n",
        "\n",
        "        # Convert to tensor and add channel dimension\n",
        "        candidate_t = torch.from_numpy(candidate_a).to(torch.float32).unsqueeze(0)\n",
        "        pos_t = torch.tensor([not candidate.isNodule_bool, candidate.isNodule_bool], dtype=torch.long)\n",
        "        return candidate_t, pos_t, candidate.series_uid, torch.tensor([center_irc.index, center_irc.row, center_irc.col])\n"
      ],
      "metadata": {
        "trusted": true,
        "execution": {
          "iopub.status.busy": "2025-10-27T11:10:19.463996Z",
          "iopub.execute_input": "2025-10-27T11:10:19.464189Z",
          "iopub.status.idle": "2025-10-27T11:10:19.469709Z",
          "shell.execute_reply.started": "2025-10-27T11:10:19.464175Z",
          "shell.execute_reply": "2025-10-27T11:10:19.469209Z"
        },
        "id": "dOK50_csY2DW"
      },
      "outputs": [],
      "execution_count": null
    },
    {
      "cell_type": "code",
      "source": [
        "\n",
        "# Example Usage / Testing\n",
        "\n",
        "if __name__ == \"__main__\":\n",
        "    dataset = LunaDataset()\n",
        "    print(\"Dataset length:\", len(dataset))\n",
        "\n",
        "    sample = dataset[0]\n",
        "    print(\"Candidate tensor shape:\", sample[0].shape)\n",
        "    print(\"Classification tensor:\", sample[1])\n",
        "    print(\"Series UID:\", sample[2])\n",
        "    print(\"Center voxel indices:\", sample[3])\n"
      ],
      "metadata": {
        "trusted": true,
        "execution": {
          "iopub.status.busy": "2025-10-27T11:10:19.511497Z",
          "iopub.execute_input": "2025-10-27T11:10:19.511690Z",
          "iopub.status.idle": "2025-10-27T11:10:20.510575Z",
          "shell.execute_reply.started": "2025-10-27T11:10:19.511674Z",
          "shell.execute_reply": "2025-10-27T11:10:20.509770Z"
        },
        "id": "31oOZS_BY2DY",
        "outputId": "4ed585ea-1054-4a0a-9b07-286e1f85f3b1"
      },
      "outputs": [
        {
          "name": "stdout",
          "text": "Loaded 56938 candidates\nDataset length: 56938\nCandidate tensor shape: torch.Size([1, 32, 48, 48])\nClassification tensor: tensor([1, 0])\nSeries UID: 1.3.6.1.4.1.14519.5.2.1.6279.6001.105756658031515062000744821260\nCenter voxel indices: tensor([ 23, 316, 430])\n",
          "output_type": "stream"
        }
      ],
      "execution_count": null
    },
    {
      "cell_type": "code",
      "source": [
        "import torch\n",
        "import torch.nn as nn\n",
        "import torch.nn.functional as F\n",
        "from torch.utils.data import Dataset, DataLoader\n",
        "\n",
        "\n",
        "# Dataset\n",
        "\n",
        "class LunaDataset(Dataset):\n",
        "    def __init__(self, data, labels):\n",
        "        self.data = data\n",
        "        self.labels = labels\n",
        "\n",
        "    def __len__(self):\n",
        "        return len(self.data)\n",
        "\n",
        "    def __getitem__(self, idx):\n",
        "        # Only return data and labels (remove None)\n",
        "        return self.data[idx], self.labels[idx]\n",
        "\n",
        "\n",
        "# Model\n",
        "\n",
        "class LunaModel(nn.Module):\n",
        "    def __init__(self, input_dim=10, hidden_dim=32, output_dim=2):\n",
        "        super(LunaModel, self).__init__()\n",
        "        self.fc1 = nn.Linear(input_dim, hidden_dim)\n",
        "        self.fc2 = nn.Linear(hidden_dim, hidden_dim)\n",
        "        self.fc3 = nn.Linear(hidden_dim, output_dim)\n",
        "\n",
        "    def forward(self, x):\n",
        "        x = F.relu(self.fc1(x))\n",
        "        x = F.relu(self.fc2(x))\n",
        "        x = self.fc3(x)\n",
        "        return x\n",
        "\n",
        "\n",
        "# Training Application\n",
        "\n",
        "METRICS_SIZE = 2  # For example: loss and accuracy\n",
        "\n",
        "class LunaTrainingApp:\n",
        "    def __init__(self, model, train_dl, val_dl, lr=0.001, device=None):\n",
        "        self.device = device if device else ('cuda' if torch.cuda.is_available() else 'cpu')\n",
        "        self.model = model.to(self.device)\n",
        "        self.train_dl = train_dl\n",
        "        self.val_dl = val_dl\n",
        "        self.optimizer = torch.optim.Adam(self.model.parameters(), lr=lr)\n",
        "        self.criterion = nn.CrossEntropyLoss()\n",
        "\n",
        "    # Single batch loss computation\n",
        "    def computeBatchLoss(self, batch_ndx, batch_tup):\n",
        "        inputs, targets = batch_tup\n",
        "        inputs = inputs.to(self.device).float()\n",
        "        targets = targets.to(self.device).long()\n",
        "        outputs = self.model(inputs)\n",
        "        loss = self.criterion(outputs, targets)\n",
        "        _, preds = torch.max(outputs, 1)\n",
        "        acc = (preds == targets).float().mean()\n",
        "        return loss, acc\n",
        "\n",
        "    # Training one epoch\n",
        "    def doTraining(self, epoch_ndx):\n",
        "        self.model.train()\n",
        "        running_loss = 0.0\n",
        "        running_acc = 0.0\n",
        "        for batch_ndx, batch_tup in enumerate(self.train_dl):\n",
        "            self.optimizer.zero_grad()\n",
        "            loss, acc = self.computeBatchLoss(batch_ndx, batch_tup)\n",
        "            loss.backward()\n",
        "            self.optimizer.step()\n",
        "            running_loss += loss.item() * batch_tup[0].size(0)\n",
        "            running_acc += acc.item() * batch_tup[0].size(0)\n",
        "\n",
        "        avg_loss = running_loss / len(self.train_dl.dataset)\n",
        "        avg_acc = running_acc / len(self.train_dl.dataset)\n",
        "        return avg_loss, avg_acc\n",
        "\n",
        "    # Validation one epoch\n",
        "    def doValidation(self, epoch_ndx):\n",
        "        self.model.eval()\n",
        "        running_loss = 0.0\n",
        "        running_acc = 0.0\n",
        "        with torch.no_grad():\n",
        "            for batch_ndx, batch_tup in enumerate(self.val_dl):\n",
        "                loss, acc = self.computeBatchLoss(batch_ndx, batch_tup)\n",
        "                running_loss += loss.item() * batch_tup[0].size(0)\n",
        "                running_acc += acc.item() * batch_tup[0].size(0)\n",
        "\n",
        "        avg_loss = running_loss / len(self.val_dl.dataset)\n",
        "        avg_acc = running_acc / len(self.val_dl.dataset)\n",
        "        return avg_loss, avg_acc\n",
        "\n",
        "    # Logging metrics\n",
        "    def logMetrics(self, epoch, phase, metrics):\n",
        "        loss, acc = metrics\n",
        "        print(f\"Epoch {epoch} | {phase} -> Loss: {loss:.4f}, Acc: {acc:.4f}\")\n",
        "\n",
        "    # Run full training\n",
        "    def run(self, epochs=5):\n",
        "        for epoch in range(1, epochs + 1):\n",
        "            trnMetrics = self.doTraining(epoch)\n",
        "            self.logMetrics(epoch, 'train', trnMetrics)\n",
        "            valMetrics = self.doValidation(epoch)\n",
        "            self.logMetrics(epoch, 'val', valMetrics)\n",
        "\n",
        "# Dummy data for testing\n",
        "\n",
        "import numpy as np\n",
        "\n",
        "# Let's assume 10 features, 2 classes, 100 samples for train, 20 for val\n",
        "X_train = torch.tensor(np.random.rand(100, 10), dtype=torch.float32)\n",
        "y_train = torch.tensor(np.random.randint(0, 2, 100), dtype=torch.long)\n",
        "X_val = torch.tensor(np.random.rand(20, 10), dtype=torch.float32)\n",
        "y_val = torch.tensor(np.random.randint(0, 2, 20), dtype=torch.long)\n",
        "\n",
        "train_ds = LunaDataset(X_train, y_train)\n",
        "val_ds = LunaDataset(X_val, y_val)\n",
        "\n",
        "train_dl = DataLoader(train_ds, batch_size=16, shuffle=True)\n",
        "val_dl = DataLoader(val_ds, batch_size=16)\n",
        "\n",
        "\n",
        "# Run training\n",
        "\n",
        "model = LunaModel(input_dim=10, hidden_dim=32, output_dim=2)\n",
        "trainer = LunaTrainingApp(model, train_dl, val_dl)\n",
        "trainer.run(epochs=10)\n"
      ],
      "metadata": {
        "trusted": true,
        "execution": {
          "iopub.status.busy": "2025-10-27T11:10:20.511916Z",
          "iopub.execute_input": "2025-10-27T11:10:20.512186Z",
          "iopub.status.idle": "2025-10-27T11:10:20.660764Z",
          "shell.execute_reply.started": "2025-10-27T11:10:20.512170Z",
          "shell.execute_reply": "2025-10-27T11:10:20.660008Z"
        },
        "id": "lEaWixGBY2Da",
        "outputId": "f7397c7b-0f52-47ff-cee6-0ea6e9d5ab14"
      },
      "outputs": [
        {
          "name": "stdout",
          "text": "Epoch 1 | train -> Loss: 0.6976, Acc: 0.4300\nEpoch 1 | val -> Loss: 0.6909, Acc: 0.5000\nEpoch 2 | train -> Loss: 0.6912, Acc: 0.5600\nEpoch 2 | val -> Loss: 0.6946, Acc: 0.4500\nEpoch 3 | train -> Loss: 0.6892, Acc: 0.5800\nEpoch 3 | val -> Loss: 0.7002, Acc: 0.4000\nEpoch 4 | train -> Loss: 0.6856, Acc: 0.5700\nEpoch 4 | val -> Loss: 0.7055, Acc: 0.4000\nEpoch 5 | train -> Loss: 0.6834, Acc: 0.5700\nEpoch 5 | val -> Loss: 0.7089, Acc: 0.4000\nEpoch 6 | train -> Loss: 0.6823, Acc: 0.5700\nEpoch 6 | val -> Loss: 0.7125, Acc: 0.4000\nEpoch 7 | train -> Loss: 0.6813, Acc: 0.5700\nEpoch 7 | val -> Loss: 0.7121, Acc: 0.4000\nEpoch 8 | train -> Loss: 0.6809, Acc: 0.5700\nEpoch 8 | val -> Loss: 0.7097, Acc: 0.4000\nEpoch 9 | train -> Loss: 0.6800, Acc: 0.5700\nEpoch 9 | val -> Loss: 0.7117, Acc: 0.4000\nEpoch 10 | train -> Loss: 0.6791, Acc: 0.5700\nEpoch 10 | val -> Loss: 0.7147, Acc: 0.4000\n",
          "output_type": "stream"
        }
      ],
      "execution_count": null
    },
    {
      "cell_type": "code",
      "source": [
        "import os\n",
        "import numpy as np\n",
        "import pandas as pd\n",
        "import torch\n",
        "import torch.nn as nn\n",
        "import torch.optim as optim\n",
        "from torch.utils.data import Dataset, DataLoader, random_split\n",
        "import torchvision.transforms as transforms\n",
        "import SimpleITK as sitk\n",
        "import matplotlib.pyplot as plt\n",
        "from sklearn.metrics import precision_score, recall_score, f1_score, accuracy_score, confusion_matrix\n",
        "import seaborn as sns\n"
      ],
      "metadata": {
        "trusted": true,
        "execution": {
          "iopub.status.busy": "2025-10-27T11:10:20.661522Z",
          "iopub.execute_input": "2025-10-27T11:10:20.661786Z",
          "iopub.status.idle": "2025-10-27T11:10:20.666206Z",
          "shell.execute_reply.started": "2025-10-27T11:10:20.661766Z",
          "shell.execute_reply": "2025-10-27T11:10:20.665573Z"
        },
        "id": "pDTWaUUvY2Dd"
      },
      "outputs": [],
      "execution_count": null
    },
    {
      "cell_type": "code",
      "source": [
        "#  Device Configuration\n",
        "\n",
        "device = torch.device('cuda' if torch.cuda.is_available() else 'cpu')\n",
        "print(\"Using device:\", device)\n"
      ],
      "metadata": {
        "trusted": true,
        "execution": {
          "iopub.status.busy": "2025-10-27T11:10:20.667930Z",
          "iopub.execute_input": "2025-10-27T11:10:20.668294Z",
          "iopub.status.idle": "2025-10-27T11:10:20.679998Z",
          "shell.execute_reply.started": "2025-10-27T11:10:20.668278Z",
          "shell.execute_reply": "2025-10-27T11:10:20.679385Z"
        },
        "id": "akBm8_dvY2Df",
        "outputId": "48827540-df00-41bf-e128-c7d8ac469845"
      },
      "outputs": [
        {
          "name": "stdout",
          "text": "Using device: cuda\n",
          "output_type": "stream"
        }
      ],
      "execution_count": null
    },
    {
      "cell_type": "code",
      "source": [
        "#  Paths and Data Setup\n",
        "\n",
        "base_dir = \"\"\n",
        "subset_dir = os.path.join(base_dir, \"/kaggle/input/subset0/subset0\")\n",
        "annotations_path = os.path.join(base_dir, \"/kaggle/input/subset0-csv/annotations_with_malignancy.csv\")\n",
        "\n",
        "# Load annotations\n",
        "annotations = pd.read_csv(annotations_path)\n",
        "print(\"Annotations loaded:\", annotations.shape)"
      ],
      "metadata": {
        "trusted": true,
        "execution": {
          "iopub.status.busy": "2025-10-27T11:10:20.680708Z",
          "iopub.execute_input": "2025-10-27T11:10:20.680994Z",
          "iopub.status.idle": "2025-10-27T11:10:20.713651Z",
          "shell.execute_reply.started": "2025-10-27T11:10:20.680971Z",
          "shell.execute_reply": "2025-10-27T11:10:20.713048Z"
        },
        "id": "tXnXx1NOY2Dg",
        "outputId": "c80cee0f-48bc-41fa-9f2f-4b12efd4f797"
      },
      "outputs": [
        {
          "name": "stdout",
          "text": "Annotations loaded: (1182, 14)\n",
          "output_type": "stream"
        }
      ],
      "execution_count": null
    },
    {
      "cell_type": "code",
      "source": [
        "#  Custom Dataset for LUNA\n",
        "\n",
        "class LUNADataset(Dataset):\n",
        "    def __init__(self, subset_dir, annotations, transform=None):\n",
        "        self.subset_dir = subset_dir\n",
        "        self.annotations = annotations\n",
        "        self.transform = transform\n",
        "        self.files = [f for f in os.listdir(subset_dir) if f.endswith(\".mhd\")]\n",
        "\n",
        "    def __len__(self):\n",
        "        return len(self.files)\n",
        "\n",
        "    def __getitem__(self, idx):\n",
        "        file_name = self.files[idx]\n",
        "        file_path = os.path.join(self.subset_dir, file_name)\n",
        "\n",
        "        # Read image volume\n",
        "        image = sitk.ReadImage(file_path)\n",
        "        image_array = sitk.GetArrayFromImage(image).astype(np.float32)\n",
        "\n",
        "        # Take the middle slice for simplicity\n",
        "        slice_idx = image_array.shape[0] // 2\n",
        "        image_slice = image_array[slice_idx]\n",
        "        image_slice = np.expand_dims(image_slice, axis=0)  # [1, H, W]\n",
        "\n",
        "        # Assign label (for demo, random 0/1 if malignancy missing)\n",
        "        row = self.annotations[self.annotations[\"seriesuid\"].str.contains(file_name.split(\".\")[0])]\n",
        "        if not row.empty and \"malignancy\" in row.columns:\n",
        "            label = int(row[\"malignancy\"].values[0] > 3)\n",
        "        else:\n",
        "            label = np.random.randint(0, 2)\n",
        "\n",
        "        # Normalize and convert to tensor\n",
        "        image_tensor = torch.tensor(image_slice)\n",
        "        image_tensor = (image_tensor - image_tensor.min()) / (image_tensor.max() - image_tensor.min())\n",
        "\n",
        "        if self.transform:\n",
        "            image_tensor = self.transform(image_tensor)\n",
        "\n",
        "        return image_tensor, label"
      ],
      "metadata": {
        "trusted": true,
        "execution": {
          "iopub.status.busy": "2025-10-27T11:10:20.714394Z",
          "iopub.execute_input": "2025-10-27T11:10:20.714642Z",
          "iopub.status.idle": "2025-10-27T11:10:20.722011Z",
          "shell.execute_reply.started": "2025-10-27T11:10:20.714625Z",
          "shell.execute_reply": "2025-10-27T11:10:20.721261Z"
        },
        "id": "xe75kADmY2Dj"
      },
      "outputs": [],
      "execution_count": null
    },
    {
      "cell_type": "code",
      "source": [
        "# Transforms and Dataset Split\n",
        "\n",
        "transform = transforms.Compose([\n",
        "    transforms.Resize((128, 128)),\n",
        "])\n",
        "\n",
        "dataset = LUNADataset(subset_dir, annotations, transform=transform)\n",
        "\n",
        "train_size = int(0.7 * len(dataset))\n",
        "val_size = int(0.15 * len(dataset))\n",
        "test_size = len(dataset) - train_size - val_size\n",
        "train_data, val_data, test_data = random_split(dataset, [train_size, val_size, test_size])\n",
        "\n",
        "train_loader = DataLoader(train_data, batch_size=8, shuffle=True)\n",
        "val_loader = DataLoader(val_data, batch_size=8, shuffle=False)\n",
        "test_loader = DataLoader(test_data, batch_size=8, shuffle=False)"
      ],
      "metadata": {
        "trusted": true,
        "execution": {
          "iopub.status.busy": "2025-10-27T11:10:20.722951Z",
          "iopub.execute_input": "2025-10-27T11:10:20.723478Z",
          "iopub.status.idle": "2025-10-27T11:10:20.741863Z",
          "shell.execute_reply.started": "2025-10-27T11:10:20.723452Z",
          "shell.execute_reply": "2025-10-27T11:10:20.741225Z"
        },
        "id": "GMD97Mf6Y2Dj"
      },
      "outputs": [],
      "execution_count": null
    },
    {
      "cell_type": "code",
      "source": [
        "\n",
        "#  Define CNN Model\n",
        "\n",
        "class LUNACNN(nn.Module):\n",
        "    def __init__(self):\n",
        "        super(LUNACNN, self).__init__()\n",
        "        self.features = nn.Sequential(\n",
        "            nn.Conv2d(1, 32, 3, padding=1),\n",
        "            nn.ReLU(),\n",
        "            nn.MaxPool2d(2),\n",
        "            nn.Conv2d(32, 64, 3, padding=1),\n",
        "            nn.ReLU(),\n",
        "            nn.MaxPool2d(2),\n",
        "        )\n",
        "        self.classifier = nn.Sequential(\n",
        "            nn.Flatten(),\n",
        "            nn.Linear(64 * 32 * 32, 256),\n",
        "            nn.ReLU(),\n",
        "            nn.Dropout(0.5),\n",
        "            nn.Linear(256, 2)\n",
        "        )\n",
        "\n",
        "    def forward(self, x):\n",
        "        x = self.features(x)\n",
        "        x = self.classifier(x)\n",
        "        return x\n",
        "\n",
        "model = LUNACNN().to(device)\n",
        "criterion = nn.CrossEntropyLoss()\n",
        "optimizer = optim.Adam(model.parameters(), lr=0.001)"
      ],
      "metadata": {
        "trusted": true,
        "execution": {
          "iopub.status.busy": "2025-10-27T11:10:20.742540Z",
          "iopub.execute_input": "2025-10-27T11:10:20.742813Z",
          "iopub.status.idle": "2025-10-27T11:10:20.918202Z",
          "shell.execute_reply.started": "2025-10-27T11:10:20.742797Z",
          "shell.execute_reply": "2025-10-27T11:10:20.917622Z"
        },
        "id": "cFHAq_ZSY2Dk"
      },
      "outputs": [],
      "execution_count": null
    },
    {
      "cell_type": "code",
      "source": [
        "#  Training Function\n",
        "\n",
        "def train_model(model, train_loader, val_loader, criterion, optimizer, epochs=5):\n",
        "    train_losses, val_losses = [], []\n",
        "    for epoch in range(epochs):\n",
        "        model.train()\n",
        "        total_loss = 0.0\n",
        "        for images, labels in train_loader:\n",
        "            images, labels = images.to(device), labels.to(device)\n",
        "            optimizer.zero_grad()\n",
        "            outputs = model(images)\n",
        "            loss = criterion(outputs, labels)\n",
        "            loss.backward()\n",
        "            optimizer.step()\n",
        "            total_loss += loss.item()\n",
        "\n",
        "        train_loss = total_loss / len(train_loader)\n",
        "        train_losses.append(train_loss)\n",
        "\n",
        "        # Validation\n",
        "        model.eval()\n",
        "        val_loss = 0.0\n",
        "        with torch.no_grad():\n",
        "            for images, labels in val_loader:\n",
        "                images, labels = images.to(device), labels.to(device)\n",
        "                outputs = model(images)\n",
        "                loss = criterion(outputs, labels)\n",
        "                val_loss += loss.item()\n",
        "        val_loss /= len(val_loader)\n",
        "        val_losses.append(val_loss)\n",
        "\n",
        "        print(f\"Epoch [{epoch+1}/{epochs}] Train Loss: {train_loss:.4f} | Val Loss: {val_loss:.4f}\")\n",
        "\n",
        "    return train_losses, val_losses\n",
        "\n",
        "train_losses, val_losses = train_model(model, train_loader, val_loader, criterion, optimizer, epochs=10)"
      ],
      "metadata": {
        "trusted": true,
        "execution": {
          "iopub.status.busy": "2025-10-27T11:10:20.918913Z",
          "iopub.execute_input": "2025-10-27T11:10:20.919088Z",
          "iopub.status.idle": "2025-10-27T11:13:11.713066Z",
          "shell.execute_reply.started": "2025-10-27T11:10:20.919074Z",
          "shell.execute_reply": "2025-10-27T11:13:11.712253Z"
        },
        "id": "Am_z0hJkY2Dk",
        "outputId": "68fe7442-6478-4e54-92ff-d7f88400a8aa"
      },
      "outputs": [
        {
          "name": "stdout",
          "text": "Epoch [1/10] Train Loss: 1.5346 | Val Loss: 0.8284\nEpoch [2/10] Train Loss: 0.6999 | Val Loss: 0.7144\nEpoch [3/10] Train Loss: 0.6952 | Val Loss: 0.6948\nEpoch [4/10] Train Loss: 0.6928 | Val Loss: 0.6949\nEpoch [5/10] Train Loss: 0.6931 | Val Loss: 0.6929\nEpoch [6/10] Train Loss: 0.6928 | Val Loss: 0.6895\nEpoch [7/10] Train Loss: 0.6938 | Val Loss: 0.6892\nEpoch [8/10] Train Loss: 0.6947 | Val Loss: 0.6946\nEpoch [9/10] Train Loss: 0.6939 | Val Loss: 0.6949\nEpoch [10/10] Train Loss: 0.6922 | Val Loss: 0.6922\n",
          "output_type": "stream"
        }
      ],
      "execution_count": null
    },
    {
      "cell_type": "code",
      "source": [
        "\n",
        "#  Evaluation\n",
        "\n",
        "model.eval()\n",
        "all_preds, all_labels = [], []\n",
        "with torch.no_grad():\n",
        "    for images, labels in test_loader:\n",
        "        images, labels = images.to(device), labels.to(device)\n",
        "        outputs = model(images)\n",
        "        _, preds = torch.max(outputs, 1)\n",
        "        all_preds.extend(preds.cpu().numpy())\n",
        "        all_labels.extend(labels.cpu().numpy())\n",
        "\n",
        "accuracy = accuracy_score(all_labels, all_preds)\n",
        "precision = precision_score(all_labels, all_preds, average='weighted', zero_division=0)\n",
        "recall = recall_score(all_labels, all_preds, average='weighted', zero_division=0)\n",
        "f1 = f1_score(all_labels, all_preds, average='weighted', zero_division=0)\n",
        "\n",
        "print(\"\\n=== Model Evaluation ===\")\n",
        "print(f\"Accuracy: {accuracy:.4f}\")\n",
        "print(f\"Precision: {precision:.4f}\")\n",
        "print(f\"Recall: {recall:.4f}\")\n",
        "print(f\"F1 Score: {f1:.4f}\")\n"
      ],
      "metadata": {
        "trusted": true,
        "execution": {
          "iopub.status.busy": "2025-10-27T11:13:11.715266Z",
          "iopub.execute_input": "2025-10-27T11:13:11.715458Z",
          "iopub.status.idle": "2025-10-27T11:13:15.518853Z",
          "shell.execute_reply.started": "2025-10-27T11:13:11.715444Z",
          "shell.execute_reply": "2025-10-27T11:13:15.518039Z"
        },
        "id": "7WEVmCtBY2Dl",
        "outputId": "18e1f8a9-6f06-4e15-bb47-65cc391edea5"
      },
      "outputs": [
        {
          "name": "stdout",
          "text": "\n=== Model Evaluation ===\nAccuracy: 0.5000\nPrecision: 0.2500\nRecall: 0.5000\nF1 Score: 0.3333\n",
          "output_type": "stream"
        }
      ],
      "execution_count": null
    },
    {
      "cell_type": "code",
      "source": [
        "# Confusion Matrix\n",
        "\n",
        "cm = confusion_matrix(all_labels, all_preds)\n",
        "plt.figure(figsize=(6, 5))\n",
        "sns.heatmap(cm, annot=True, fmt='d', cmap='Blues', xticklabels=[\"Benign\", \"Malignant\"], yticklabels=[\"Benign\", \"Malignant\"])\n",
        "plt.title(\"Confusion Matrix\")\n",
        "plt.xlabel(\"Predicted\")\n",
        "plt.ylabel(\"True\")\n",
        "plt.show()\n",
        "\n",
        "\n",
        "#  Plot Loss Curves\n",
        "\n",
        "plt.plot(train_losses, label=\"Train Loss\")\n",
        "plt.plot(val_losses, label=\"Validation Loss\")\n",
        "plt.legend()\n",
        "plt.xlabel(\"Epochs\")\n",
        "plt.ylabel(\"Loss\")\n",
        "plt.title(\"Training vs Validation Loss\")\n",
        "plt.show()"
      ],
      "metadata": {
        "trusted": true,
        "execution": {
          "iopub.status.busy": "2025-10-27T11:13:15.519750Z",
          "iopub.execute_input": "2025-10-27T11:13:15.520080Z",
          "iopub.status.idle": "2025-10-27T11:13:15.810240Z",
          "shell.execute_reply.started": "2025-10-27T11:13:15.520063Z",
          "shell.execute_reply": "2025-10-27T11:13:15.809632Z"
        },
        "id": "9xOMj-NCY2Dl",
        "outputId": "e812c929-306c-42d0-d699-604dca2794ef"
      },
      "outputs": [
        {
          "output_type": "display_data",
          "data": {
            "text/plain": "<Figure size 600x500 with 2 Axes>",
            "image/png": "[encoded data removed]"
          },
          "metadata": {}
        },
        {
          "output_type": "display_data",
          "data": {
            "text/plain": "<Figure size 640x480 with 1 Axes>",
            "image/png": "[encoded data removed]"
          },
          "metadata": {}
        }
      ],
      "execution_count": null
    }
  ]
}